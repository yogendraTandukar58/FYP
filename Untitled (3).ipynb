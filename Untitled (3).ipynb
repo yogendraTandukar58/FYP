{
 "cells": [
  {
   "cell_type": "code",
   "execution_count": 15,
   "id": "3b3a7fab",
   "metadata": {},
   "outputs": [],
   "source": [
    "import pandas as pd\n",
    "from scipy.sparse import csr_matrix\n",
    "from sklearn.metrics.pairwise import cosine_similarity\n",
    "from sklearn.neighbors import NearestNeighbors\n",
    "import numpy as np\n",
    "import pickle"
   ]
  },
  {
   "cell_type": "code",
   "execution_count": 2,
   "id": "ec9a2dd9",
   "metadata": {},
   "outputs": [],
   "source": [
    "# Replace 'your_product_file.csv' and 'your_order_file.csv' with your actual file names or DataFrame variables\n",
    "products_df = pd.read_csv('~/Downloads/model/products.csv')\n",
    "orders_df = pd.read_csv('~/Downloads/model/order_products__train.csv')"
   ]
  },
  {
   "cell_type": "code",
   "execution_count": 17,
   "id": "dd3a0aa7",
   "metadata": {},
   "outputs": [
    {
     "data": {
      "text/html": [
       "<div>\n",
       "<style scoped>\n",
       "    .dataframe tbody tr th:only-of-type {\n",
       "        vertical-align: middle;\n",
       "    }\n",
       "\n",
       "    .dataframe tbody tr th {\n",
       "        vertical-align: top;\n",
       "    }\n",
       "\n",
       "    .dataframe thead th {\n",
       "        text-align: right;\n",
       "    }\n",
       "</style>\n",
       "<table border=\"1\" class=\"dataframe\">\n",
       "  <thead>\n",
       "    <tr style=\"text-align: right;\">\n",
       "      <th></th>\n",
       "      <th>product_id</th>\n",
       "      <th>product_name</th>\n",
       "      <th>aisle_id</th>\n",
       "      <th>department_id</th>\n",
       "    </tr>\n",
       "  </thead>\n",
       "  <tbody>\n",
       "    <tr>\n",
       "      <th>0</th>\n",
       "      <td>1</td>\n",
       "      <td>Chocolate Sandwich Cookies</td>\n",
       "      <td>61</td>\n",
       "      <td>19</td>\n",
       "    </tr>\n",
       "    <tr>\n",
       "      <th>1</th>\n",
       "      <td>2</td>\n",
       "      <td>All-Seasons Salt</td>\n",
       "      <td>104</td>\n",
       "      <td>13</td>\n",
       "    </tr>\n",
       "    <tr>\n",
       "      <th>2</th>\n",
       "      <td>3</td>\n",
       "      <td>Robust Golden Unsweetened Oolong Tea</td>\n",
       "      <td>94</td>\n",
       "      <td>7</td>\n",
       "    </tr>\n",
       "    <tr>\n",
       "      <th>3</th>\n",
       "      <td>4</td>\n",
       "      <td>Smart Ones Classic Favorites Mini Rigatoni Wit...</td>\n",
       "      <td>38</td>\n",
       "      <td>1</td>\n",
       "    </tr>\n",
       "    <tr>\n",
       "      <th>4</th>\n",
       "      <td>5</td>\n",
       "      <td>Green Chile Anytime Sauce</td>\n",
       "      <td>5</td>\n",
       "      <td>13</td>\n",
       "    </tr>\n",
       "    <tr>\n",
       "      <th>...</th>\n",
       "      <td>...</td>\n",
       "      <td>...</td>\n",
       "      <td>...</td>\n",
       "      <td>...</td>\n",
       "    </tr>\n",
       "    <tr>\n",
       "      <th>49683</th>\n",
       "      <td>49684</td>\n",
       "      <td>Vodka, Triple Distilled, Twist of Vanilla</td>\n",
       "      <td>124</td>\n",
       "      <td>5</td>\n",
       "    </tr>\n",
       "    <tr>\n",
       "      <th>49684</th>\n",
       "      <td>49685</td>\n",
       "      <td>En Croute Roast Hazelnut Cranberry</td>\n",
       "      <td>42</td>\n",
       "      <td>1</td>\n",
       "    </tr>\n",
       "    <tr>\n",
       "      <th>49685</th>\n",
       "      <td>49686</td>\n",
       "      <td>Artisan Baguette</td>\n",
       "      <td>112</td>\n",
       "      <td>3</td>\n",
       "    </tr>\n",
       "    <tr>\n",
       "      <th>49686</th>\n",
       "      <td>49687</td>\n",
       "      <td>Smartblend Healthy Metabolism Dry Cat Food</td>\n",
       "      <td>41</td>\n",
       "      <td>8</td>\n",
       "    </tr>\n",
       "    <tr>\n",
       "      <th>49687</th>\n",
       "      <td>49688</td>\n",
       "      <td>Fresh Foaming Cleanser</td>\n",
       "      <td>73</td>\n",
       "      <td>11</td>\n",
       "    </tr>\n",
       "  </tbody>\n",
       "</table>\n",
       "<p>49688 rows × 4 columns</p>\n",
       "</div>"
      ],
      "text/plain": [
       "       product_id                                       product_name  \\\n",
       "0               1                         Chocolate Sandwich Cookies   \n",
       "1               2                                   All-Seasons Salt   \n",
       "2               3               Robust Golden Unsweetened Oolong Tea   \n",
       "3               4  Smart Ones Classic Favorites Mini Rigatoni Wit...   \n",
       "4               5                          Green Chile Anytime Sauce   \n",
       "...           ...                                                ...   \n",
       "49683       49684          Vodka, Triple Distilled, Twist of Vanilla   \n",
       "49684       49685                 En Croute Roast Hazelnut Cranberry   \n",
       "49685       49686                                   Artisan Baguette   \n",
       "49686       49687         Smartblend Healthy Metabolism Dry Cat Food   \n",
       "49687       49688                             Fresh Foaming Cleanser   \n",
       "\n",
       "       aisle_id  department_id  \n",
       "0            61             19  \n",
       "1           104             13  \n",
       "2            94              7  \n",
       "3            38              1  \n",
       "4             5             13  \n",
       "...         ...            ...  \n",
       "49683       124              5  \n",
       "49684        42              1  \n",
       "49685       112              3  \n",
       "49686        41              8  \n",
       "49687        73             11  \n",
       "\n",
       "[49688 rows x 4 columns]"
      ]
     },
     "execution_count": 17,
     "metadata": {},
     "output_type": "execute_result"
    }
   ],
   "source": [
    "products_df"
   ]
  },
  {
   "cell_type": "code",
   "execution_count": 4,
   "id": "adde74bc",
   "metadata": {},
   "outputs": [],
   "source": [
    "orders_df=orders_df.groupby('order_id')['product_id'].agg(list).reset_index()"
   ]
  },
  {
   "cell_type": "code",
   "execution_count": 5,
   "id": "a8412b37",
   "metadata": {},
   "outputs": [],
   "source": [
    "# Creating a list of tuples that contain (order_id, product_id)\n",
    "interaction_data = []\n",
    "for index, row in orders_df.iterrows():\n",
    "    for product_id in row['product_id']:\n",
    "        interaction_data.append((row['order_id'], product_id))\n",
    "\n",
    "# Convert the list of tuples into a DataFrame\n",
    "interaction_df = pd.DataFrame(interaction_data, columns=['order_id', 'product_id'])\n",
    "\n",
    "# Map order and product to integer indices\n",
    "order_indices = {order_id: i for i, order_id in enumerate(orders_df['order_id'].unique())}\n",
    "product_indices = {product_id: i for i, product_id in enumerate(products_df['product_id'].unique())}\n",
    "\n",
    "# Map the order and product IDs to the corresponding indices\n",
    "interaction_df['order_id'] = interaction_df['order_id'].map(order_indices)\n",
    "interaction_df['product_id'] = interaction_df['product_id'].map(product_indices)\n",
    "\n",
    "# Create a sparse matrix\n",
    "interaction_sparse = csr_matrix((np.ones(interaction_df.shape[0]), \n",
    "                                 (interaction_df['order_id'], interaction_df['product_id'])), \n",
    "                                 shape=(len(order_indices), len(product_indices)))"
   ]
  },
  {
   "cell_type": "code",
   "execution_count": 6,
   "id": "3b2f168e",
   "metadata": {},
   "outputs": [],
   "source": [
    "cosine_sim_sparse = cosine_similarity(interaction_sparse, dense_output=False)"
   ]
  },
  {
   "cell_type": "code",
   "execution_count": 7,
   "id": "c0093077",
   "metadata": {},
   "outputs": [],
   "source": [
    "del interaction_df,interaction_sparse,orders_df,interaction_data,order_indices"
   ]
  },
  {
   "cell_type": "code",
   "execution_count": 8,
   "id": "c09311ab",
   "metadata": {},
   "outputs": [],
   "source": [
    "# Create a DataFrame for the cosine similarity matrix\n",
    "# cosine_sim_df = pd.DataFrame(cosine_sim, index=interaction_matrix.columns, columns=interaction_matrix.columns)"
   ]
  },
  {
   "cell_type": "code",
   "execution_count": 9,
   "id": "5cd28f31",
   "metadata": {},
   "outputs": [
    {
     "data": {
      "text/html": [
       "<style>#sk-container-id-1 {color: black;}#sk-container-id-1 pre{padding: 0;}#sk-container-id-1 div.sk-toggleable {background-color: white;}#sk-container-id-1 label.sk-toggleable__label {cursor: pointer;display: block;width: 100%;margin-bottom: 0;padding: 0.3em;box-sizing: border-box;text-align: center;}#sk-container-id-1 label.sk-toggleable__label-arrow:before {content: \"▸\";float: left;margin-right: 0.25em;color: #696969;}#sk-container-id-1 label.sk-toggleable__label-arrow:hover:before {color: black;}#sk-container-id-1 div.sk-estimator:hover label.sk-toggleable__label-arrow:before {color: black;}#sk-container-id-1 div.sk-toggleable__content {max-height: 0;max-width: 0;overflow: hidden;text-align: left;background-color: #f0f8ff;}#sk-container-id-1 div.sk-toggleable__content pre {margin: 0.2em;color: black;border-radius: 0.25em;background-color: #f0f8ff;}#sk-container-id-1 input.sk-toggleable__control:checked~div.sk-toggleable__content {max-height: 200px;max-width: 100%;overflow: auto;}#sk-container-id-1 input.sk-toggleable__control:checked~label.sk-toggleable__label-arrow:before {content: \"▾\";}#sk-container-id-1 div.sk-estimator input.sk-toggleable__control:checked~label.sk-toggleable__label {background-color: #d4ebff;}#sk-container-id-1 div.sk-label input.sk-toggleable__control:checked~label.sk-toggleable__label {background-color: #d4ebff;}#sk-container-id-1 input.sk-hidden--visually {border: 0;clip: rect(1px 1px 1px 1px);clip: rect(1px, 1px, 1px, 1px);height: 1px;margin: -1px;overflow: hidden;padding: 0;position: absolute;width: 1px;}#sk-container-id-1 div.sk-estimator {font-family: monospace;background-color: #f0f8ff;border: 1px dotted black;border-radius: 0.25em;box-sizing: border-box;margin-bottom: 0.5em;}#sk-container-id-1 div.sk-estimator:hover {background-color: #d4ebff;}#sk-container-id-1 div.sk-parallel-item::after {content: \"\";width: 100%;border-bottom: 1px solid gray;flex-grow: 1;}#sk-container-id-1 div.sk-label:hover label.sk-toggleable__label {background-color: #d4ebff;}#sk-container-id-1 div.sk-serial::before {content: \"\";position: absolute;border-left: 1px solid gray;box-sizing: border-box;top: 0;bottom: 0;left: 50%;z-index: 0;}#sk-container-id-1 div.sk-serial {display: flex;flex-direction: column;align-items: center;background-color: white;padding-right: 0.2em;padding-left: 0.2em;position: relative;}#sk-container-id-1 div.sk-item {position: relative;z-index: 1;}#sk-container-id-1 div.sk-parallel {display: flex;align-items: stretch;justify-content: center;background-color: white;position: relative;}#sk-container-id-1 div.sk-item::before, #sk-container-id-1 div.sk-parallel-item::before {content: \"\";position: absolute;border-left: 1px solid gray;box-sizing: border-box;top: 0;bottom: 0;left: 50%;z-index: -1;}#sk-container-id-1 div.sk-parallel-item {display: flex;flex-direction: column;z-index: 1;position: relative;background-color: white;}#sk-container-id-1 div.sk-parallel-item:first-child::after {align-self: flex-end;width: 50%;}#sk-container-id-1 div.sk-parallel-item:last-child::after {align-self: flex-start;width: 50%;}#sk-container-id-1 div.sk-parallel-item:only-child::after {width: 0;}#sk-container-id-1 div.sk-dashed-wrapped {border: 1px dashed gray;margin: 0 0.4em 0.5em 0.4em;box-sizing: border-box;padding-bottom: 0.4em;background-color: white;}#sk-container-id-1 div.sk-label label {font-family: monospace;font-weight: bold;display: inline-block;line-height: 1.2em;}#sk-container-id-1 div.sk-label-container {text-align: center;}#sk-container-id-1 div.sk-container {/* jupyter's `normalize.less` sets `[hidden] { display: none; }` but bootstrap.min.css set `[hidden] { display: none !important; }` so we also need the `!important` here to be able to override the default hidden behavior on the sphinx rendered scikit-learn.org. See: https://github.com/scikit-learn/scikit-learn/issues/21755 */display: inline-block !important;position: relative;}#sk-container-id-1 div.sk-text-repr-fallback {display: none;}</style><div id=\"sk-container-id-1\" class=\"sk-top-container\"><div class=\"sk-text-repr-fallback\"><pre>NearestNeighbors(algorithm=&#x27;brute&#x27;, metric=&#x27;cosine&#x27;, n_jobs=-1, n_neighbors=10)</pre><b>In a Jupyter environment, please rerun this cell to show the HTML representation or trust the notebook. <br />On GitHub, the HTML representation is unable to render, please try loading this page with nbviewer.org.</b></div><div class=\"sk-container\" hidden><div class=\"sk-item\"><div class=\"sk-estimator sk-toggleable\"><input class=\"sk-toggleable__control sk-hidden--visually\" id=\"sk-estimator-id-1\" type=\"checkbox\" checked><label for=\"sk-estimator-id-1\" class=\"sk-toggleable__label sk-toggleable__label-arrow\">NearestNeighbors</label><div class=\"sk-toggleable__content\"><pre>NearestNeighbors(algorithm=&#x27;brute&#x27;, metric=&#x27;cosine&#x27;, n_jobs=-1, n_neighbors=10)</pre></div></div></div></div></div>"
      ],
      "text/plain": [
       "NearestNeighbors(algorithm='brute', metric='cosine', n_jobs=-1, n_neighbors=10)"
      ]
     },
     "execution_count": 9,
     "metadata": {},
     "output_type": "execute_result"
    }
   ],
   "source": [
    "# Choose K for the KNN model\n",
    "K = 10\n",
    "\n",
    "# Initialize the NearestNeighbors model\n",
    "model_knn = NearestNeighbors(metric='cosine', algorithm='brute', n_neighbors=K, n_jobs=-1)\n",
    "\n",
    "# Fit the model on the cosine similarity matrix\n",
    "model_knn.fit(cosine_sim_sparse)"
   ]
  },
  {
   "cell_type": "code",
   "execution_count": 12,
   "id": "f9e9923f",
   "metadata": {},
   "outputs": [],
   "source": [
    "def recommend_products(product_id, data, model, n_recommendations, product_indices, products_df):\n",
    "    # Check if the product_id exists in the product_indices mapping\n",
    "    if product_id not in product_indices:\n",
    "        return f\"Product ID {product_id} not found in product_indices.\"\n",
    "\n",
    "    # Find the index of the product\n",
    "    product_idx = product_indices[product_id]\n",
    "\n",
    "    # Find the K-nearest neighbors of the product\n",
    "    distances, indices = model.kneighbors(data[product_idx], n_neighbors=n_recommendations + 1)\n",
    "\n",
    "    # Reverse the product indices mapping\n",
    "    index_product = {v: k for k, v in product_indices.items()}\n",
    "\n",
    "    # Get product recommendations\n",
    "    recommendations = []\n",
    "    for i in range(1, len(distances.flatten())):\n",
    "        idx = indices.flatten()[i]\n",
    "        # Check if the index is in the reverse mapping\n",
    "        if idx in index_product:\n",
    "            product_id = index_product[idx]\n",
    "            # Check if the product_id is in the products_df\n",
    "            if product_id in products_df['product_id'].values:\n",
    "                product_name = products_df[products_df['product_id'] == product_id]['product_name'].iloc[0]\n",
    "                recommendations.append((product_name, distances.flatten()[i]))\n",
    "            else:\n",
    "                recommendations.append((f\"Product ID {product_id} not found in products_df\", distances.flatten()[i]))\n",
    "        else:\n",
    "            recommendations.append((f\"Index {idx} not found in index_product mapping\", distances.flatten()[i]))\n",
    "\n",
    "    return recommendations"
   ]
  },
  {
   "cell_type": "code",
   "execution_count": 13,
   "id": "5db8e247",
   "metadata": {},
   "outputs": [
    {
     "name": "stdout",
     "output_type": "stream",
     "text": [
      "[('Seafood Medley Value Size Stay Fresh Pack', 0.07448454790893833), ('Index 119796 not found in index_product mapping', 0.07507327044414902), ('Index 55190 not found in index_product mapping', 0.07568245570389176), ('Index 54210 not found in index_product mapping', 0.07568484574075618), ('Three Grain Bread', 0.07691677201659564)]\n"
     ]
    }
   ],
   "source": [
    "recommended_products = recommend_products(1, cosine_sim_sparse, model_knn, 5, product_indices, products_df)\n",
    "print(recommended_products)"
   ]
  },
  {
   "cell_type": "code",
   "execution_count": 18,
   "id": "7dbf692f",
   "metadata": {},
   "outputs": [],
   "source": [
    "# Save the KNN model\n",
    "with open('knn_model.pkl', 'wb') as file:\n",
    "    pickle.dump(model_knn, file)\n",
    "\n",
    "# Save the product indices mapping\n",
    "with open('product_indices.pkl', 'wb') as file:\n",
    "    pickle.dump(product_indices, file)\n",
    "\n",
    "# If you need to save the cosine similarity matrix\n",
    "with open('cosine_sim_sparse.pkl', 'wb') as file:\n",
    "    pickle.dump(cosine_sim_sparse, file)"
   ]
  },
  {
   "cell_type": "code",
   "execution_count": 19,
   "id": "2ea744d1",
   "metadata": {},
   "outputs": [],
   "source": [
    "# Load the KNN model\n",
    "with open('knn_model.pkl', 'rb') as file:\n",
    "    model_knn = pickle.load(file)\n",
    "\n",
    "# Load the product indices mapping\n",
    "with open('product_indices.pkl', 'rb') as file:\n",
    "    product_indices = pickle.load(file)\n",
    "\n",
    "# Load the cosine similarity matrix if needed\n",
    "with open('cosine_sim_sparse.pkl', 'rb') as file:\n",
    "    cosine_sim_sparse = pickle.load(file)"
   ]
  },
  {
   "cell_type": "code",
   "execution_count": null,
   "id": "1bc3a1cd",
   "metadata": {},
   "outputs": [],
   "source": []
  }
 ],
 "metadata": {
  "kernelspec": {
   "display_name": "Python 3 (ipykernel)",
   "language": "python",
   "name": "python3"
  },
  "language_info": {
   "codemirror_mode": {
    "name": "ipython",
    "version": 3
   },
   "file_extension": ".py",
   "mimetype": "text/x-python",
   "name": "python",
   "nbconvert_exporter": "python",
   "pygments_lexer": "ipython3",
   "version": "3.12.1"
  }
 },
 "nbformat": 4,
 "nbformat_minor": 5
}
